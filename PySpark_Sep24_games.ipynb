{
  "cells": [
    {
      "cell_type": "markdown",
      "metadata": {
        "id": "04k66G6XOD3o"
      },
      "source": [
        "# CW1 - Metacritic Analysis with PySpark\n",
        "\n",
        "In this assignment I will be  exploring a dataset containing Metacritic entries up to year 2020."
      ]
    },
    {
      "cell_type": "code",
      "execution_count": null,
      "metadata": {
        "colab": {
          "base_uri": "https://localhost:8080/"
        },
        "id": "I6b460JnN-7H",
        "outputId": "55235751-992e-45d1-80bf-dfbc0aaad326"
      },
      "outputs": [
        {
          "output_type": "stream",
          "name": "stdout",
          "text": [
            "Mounted at /content/drive\n"
          ]
        }
      ],
      "source": [
        "# CodeGrade Tag Init1\n",
        "\n",
        "from google.colab import drive\n",
        "drive.mount('/content/drive')"
      ]
    },
    {
      "cell_type": "code",
      "execution_count": null,
      "metadata": {
        "id": "Ya7WJUs2PwZF"
      },
      "outputs": [],
      "source": [
        "# CodeGrade Tag Init2\n",
        "\n",
        "# Apache Spark uses Java, so first we must install that\n",
        "!apt-get install openjdk-8-jdk-headless -qq > /dev/null\n",
        "\n",
        "# Unpack Spark from google drive\n",
        "!tar xzf /content/drive/MyDrive/spark-3.3.0-bin-hadoop3.tgz\n",
        "\n",
        "# Set up environment variables\n",
        "import os\n",
        "os.environ[\"JAVA_HOME\"] = \"/usr/lib/jvm/java-8-openjdk-amd64\"\n",
        "os.environ[\"SPARK_HOME\"] = \"spark-3.3.0-bin-hadoop3\"\n",
        "\n",
        "# Install findspark, which helps python locate the psyspark module files\n",
        "!pip install -q findspark\n",
        "import findspark\n",
        "findspark.init()"
      ]
    },
    {
      "cell_type": "code",
      "execution_count": null,
      "metadata": {
        "id": "qoS2qInhP_jy"
      },
      "outputs": [],
      "source": [
        "# Finally, we initialse a \"SparkSession\", which handles the computations\n",
        "from pyspark.sql import SparkSession\n",
        "spark = SparkSession.builder\\\n",
        "        .master(\"local\")\\\n",
        "        .appName(\"Colab\")\\\n",
        "        .config('spark.ui.port', '4050')\\\n",
        "        .getOrCreate()\n",
        "\n",
        "# pyspark.sql.functions countains all the transformations and actions you will\n",
        "# need\n",
        "\n",
        "from pyspark.sql import functions as F\n",
        "from pyspark.sql.functions import col"
      ]
    },
    {
      "cell_type": "code",
      "execution_count": null,
      "metadata": {
        "id": "u_sX_aYiGMrH"
      },
      "outputs": [],
      "source": [
        "# Load the games-data.csv file into your notebook as a pyspark dataframe\n",
        "\n",
        "CsvPath = '/content/games-data.csv'\n",
        "\n",
        "# Load .csv with header, ',' seperators and inferred schema\n",
        "GamesDF = spark.read\\\n",
        "                     .option('header', 'True')\\\n",
        "                     .option(\"escapeQuotes\", \"True\")\\\n",
        "                     .option('sep', ',')\\\n",
        "                     .option('inferSchema', 'True')\\\n",
        "                     .csv(CsvPath)"
      ]
    },
    {
      "cell_type": "code",
      "execution_count": null,
      "metadata": {
        "id": "aa7_iI4oEu7r"
      },
      "outputs": [],
      "source": [
        "# In this cell we perform some minimal preprocessing\n",
        "# First, drop all rows containing null values\n",
        "\n",
        "GamesDF = GamesDF.na.drop()\n",
        "\n",
        "# Second, we extract the year from the release date\n",
        "\n",
        "GamesDF = GamesDF.withColumn(\"year\",\n",
        "                             F.regexp_extract(\"r-date\", r\"(.),(\\s+)(\\w+)\", 3))\n",
        "GamesDF = GamesDF.withColumn('year', GamesDF['year'].cast('int'))\n",
        "GamesDF = GamesDF.drop('r-date')"
      ]
    },
    {
      "cell_type": "code",
      "execution_count": null,
      "metadata": {
        "colab": {
          "base_uri": "https://localhost:8080/"
        },
        "id": "kS0QdyQjG8yK",
        "outputId": "d40d8a33-af66-4cf3-f869-5707f5d1081a"
      },
      "outputs": [
        {
          "output_type": "stream",
          "name": "stdout",
          "text": [
            "root\n",
            " |-- name: string (nullable = true)\n",
            " |-- platform: string (nullable = true)\n",
            " |-- score: integer (nullable = true)\n",
            " |-- user score: string (nullable = true)\n",
            " |-- developer: string (nullable = true)\n",
            " |-- genre: string (nullable = true)\n",
            " |-- players: string (nullable = true)\n",
            " |-- critics: integer (nullable = true)\n",
            " |-- users: integer (nullable = true)\n",
            " |-- year: integer (nullable = true)\n",
            "\n",
            "+--------------------+------------+-----+----------+--------------------+--------------------+--------------------+-------+-----+----+\n",
            "|                name|    platform|score|user score|           developer|               genre|             players|critics|users|year|\n",
            "+--------------------+------------+-----+----------+--------------------+--------------------+--------------------+-------+-----+----+\n",
            "|The Legend of Zel...|  Nintendo64|   99|       9.1|            Nintendo|Action Adventure,...|            1 Player|     22| 5749|1998|\n",
            "|Tony Hawk's Pro S...| PlayStation|   98|       7.4|NeversoftEntertai...|Sports,Alternativ...|                1-2 |     19|  647|2000|\n",
            "| Grand Theft Auto IV|PlayStation3|   98|       7.6|       RockstarNorth|Action Adventure,...|            1 Player|     64| 3806|2008|\n",
            "|         SoulCalibur|   Dreamcast|   98|       8.5|               Namco|  Action,Fighting,3D|                1-2 |     24|  324|1999|\n",
            "| Grand Theft Auto IV|     Xbox360|   98|       7.9|       RockstarNorth|Action Adventure,...|            1 Player|     86| 3364|2008|\n",
            "|  Super Mario Galaxy|         Wii|   97|       9.0|            Nintendo|Action,Platformer...|No Online Multipl...|     73| 3059|2007|\n",
            "|Super Mario Galaxy 2|         Wii|   97|       9.1|    NintendoEADTokyo|Action,Platformer...|No Online Multipl...|     87| 2521|2010|\n",
            "|Red Dead Redempti...|     XboxOne|   97|       7.8|       RockstarGames|Action Adventure,...|           Up to 32 |     33| 3186|2018|\n",
            "|  Grand Theft Auto V|     XboxOne|   97|       7.8|       RockstarNorth|Action Adventure,...|           Up to 30 |     14| 1285|2014|\n",
            "|  Grand Theft Auto V|PlayStation3|   97|       8.3|       RockstarNorth|Modern,Action Adv...|           Up to 16 |     50| 4568|2013|\n",
            "|  Grand Theft Auto V|     Xbox360|   97|       8.3|       RockstarNorth|Modern,Action Adv...|           Up to 16 |     58| 3905|2013|\n",
            "|Tony Hawk's Pro S...|   Dreamcast|   97|       6.2|            Treyarch|Sports,Alternativ...|             No info|     18|   88|2000|\n",
            "|The Legend of Zel...|      Switch|   97|       8.6|            Nintendo|Action Adventure,...|No Online Multipl...|    109|15873|2017|\n",
            "|Tony Hawk's Pro S...|PlayStation2|   97|       7.6|NeversoftEntertai...|Sports,Alternativ...|                1-2 |     34|  406|2001|\n",
            "|        Perfect Dark|  Nintendo64|   97|       8.9|            RareLtd.|Action,Shooter,Fi...|             No info|     30|  420|2000|\n",
            "|Red Dead Redempti...|PlayStation4|   97|       8.4|       RockstarGames|Action Adventure,...|           Up to 32 |     99|14315|2018|\n",
            "|  Grand Theft Auto V|PlayStation4|   97|       8.4|       RockstarNorth|Action Adventure,...|           Up to 30 |     66| 5899|2014|\n",
            "|       Metroid Prime|    GameCube|   97|       9.2|        RetroStudios|Action,Shooter,Fi...|            1 Player|     70| 1113|2002|\n",
            "|Grand Theft Auto III|PlayStation2|   97|       8.4|           DMADesign|Action Adventure,...|            1 Player|     56|  881|2001|\n",
            "| Super Mario Odyssey|      Switch|   97|       8.9|            Nintendo|Action,Platformer,3D|No Online Multipl...|    113| 5546|2017|\n",
            "+--------------------+------------+-----+----------+--------------------+--------------------+--------------------+-------+-----+----+\n",
            "only showing top 20 rows\n",
            "\n"
          ]
        }
      ],
      "source": [
        "# CodeGrade Tag Init3\n",
        "\n",
        "GamesDF.printSchema()\n",
        "GamesDF.show()"
      ]
    },
    {
      "cell_type": "markdown",
      "metadata": {
        "id": "1QlcZETyTyT7"
      },
      "source": [
        "Filter and show all the titles with a score higher or equal to 95 released from 2017"
      ]
    },
    {
      "cell_type": "code",
      "execution_count": null,
      "metadata": {
        "colab": {
          "base_uri": "https://localhost:8080/"
        },
        "id": "XvFHxhta6Lva",
        "outputId": "30afb562-65ba-4b59-c08c-9615fbf0d781"
      },
      "outputs": [
        {
          "output_type": "stream",
          "name": "stdout",
          "text": [
            "+---------------------------------------+------------+-----+----------+-------------+-------------------------------------------+---------------------+-------+-----+----+\n",
            "|name                                   |platform    |score|user score|developer    |genre                                      |players              |critics|users|year|\n",
            "+---------------------------------------+------------+-----+----------+-------------+-------------------------------------------+---------------------+-------+-----+----+\n",
            "|Red Dead Redemption 2                  |XboxOne     |97   |7.8       |RockstarGames|Action Adventure,Open-World                |Up to 32             |33     |3186 |2018|\n",
            "|The Legend of Zelda: Breath of the Wild|Switch      |97   |8.6       |Nintendo     |Action Adventure,Open-World                |No Online Multiplayer|109    |15873|2017|\n",
            "|Red Dead Redemption 2                  |PlayStation4|97   |8.4       |RockstarGames|Action Adventure,Open-World                |Up to 32             |99     |14315|2018|\n",
            "|Super Mario Odyssey                    |Switch      |97   |8.9       |Nintendo     |Action,Platformer,3D                       |No Online Multiplayer|113    |5546 |2017|\n",
            "|The Legend of Zelda: Breath of the Wild|WiiU        |96   |8.2       |Nintendo     |Fantasy,Fantasy,Action Adventure,Open-World|No Online Multiplayer|13     |2245 |2017|\n",
            "|Persona 5 Royal                        |PlayStation4|95   |8.2       |Atlus        |Role-Playing,Japanese-Style                |No Online Multiplayer|71     |2593 |2020|\n",
            "+---------------------------------------+------------+-----+----------+-------------+-------------------------------------------+---------------------+-------+-----+----+\n",
            "\n"
          ]
        }
      ],
      "source": [
        "# CodeGrade Tag Ex1a\n",
        "### Filter and show all the titles with a score higher or equal to 95\n",
        "### released from 2017\n",
        "\n",
        "GamesDF.filter((GamesDF['year']>=2017)&(GamesDF['score']>=95)).show(truncate=False)"
      ]
    },
    {
      "cell_type": "markdown",
      "metadata": {
        "id": "nuSgzl6DZ33Z"
      },
      "source": [
        "Create a dataframe that contains, for each developer, the number of distinct titles, the average score, the average user score, the total number of critics and the total number of users.\n",
        "\n",
        "Make sure the columns have the following names:\n",
        "\n",
        "```developer|Number of Titles|Average Score|Average User Score|Total Critics|Total Users```\n",
        "\n",
        "Sort by the number of titles in descending order."
      ]
    },
    {
      "cell_type": "code",
      "source": [
        "from pyspark.sql import functions as F"
      ],
      "metadata": {
        "id": "C148qEpHDrL5"
      },
      "execution_count": null,
      "outputs": []
    },
    {
      "cell_type": "code",
      "execution_count": null,
      "metadata": {
        "colab": {
          "base_uri": "https://localhost:8080/"
        },
        "id": "AzsBLIkNgdHm",
        "outputId": "fe5299a0-f62a-4cf0-aa21-a3dd13e7179d"
      },
      "outputs": [
        {
          "output_type": "stream",
          "name": "stdout",
          "text": [
            "+------------------+----------------+-----------------+------------------+-------------+-----------+\n",
            "|         developer|Number of Titles|    Average Score|Average User Score|Total Critics|Total Users|\n",
            "+------------------+----------------+-----------------+------------------+-------------+-----------+\n",
            "|            Capcom|             184| 74.9054054054054| 7.848620689655175|         8463|      58471|\n",
            "|          Nintendo|             140|80.38028169014085| 7.963309352517986|         5926|      82108|\n",
            "|     TelltaleGames|             120|75.30932203389831| 7.151709401709399|         4227|      26054|\n",
            "|            Konami|             120|69.84180790960453| 6.998726114649679|         3470|      13437|\n",
            "|           Ubisoft|              90|67.67647058823529|6.8560606060606055|         3031|      24671|\n",
            "|          EASports|              79| 79.8051282051282|  6.60374331550802|         4294|      20058|\n",
            "|        SquareEnix|              78|75.38317757009345| 7.583168316831683|         3580|      44839|\n",
            "|          EACanada|              73|76.53488372093024| 7.251204819277107|         4493|       8897|\n",
            "|   UbisoftMontreal|              71|75.10958904109589| 7.087323943661971|         4571|      63260|\n",
            "|        OmegaForce|              63|66.12765957446808| 7.380851063829789|         2486|       4919|\n",
            "|    ElectronicArts|              60|74.53465346534654| 6.331182795698923|         2410|      12731|\n",
            "|              Sega|              59|72.30555555555556| 7.414705882352942|         1798|       4545|\n",
            "|             Namco|              56|75.61194029850746|  8.02295081967213|         2085|       4480|\n",
            "|  VicariousVisions|              54|73.91891891891892| 6.908695652173913|         1716|       3984|\n",
            "|  BandaiNamcoGames|              50|68.59677419354838| 6.916393442622951|         1904|       9918|\n",
            "|NipponIchiSoftware|              48|73.21153846153847| 7.492156862745098|         1243|       2579|\n",
            "|    DigitalEclipse|              47|67.87719298245614| 7.128571428571429|          905|        970|\n",
            "|         EATiburon|              45|            76.17| 6.666315789473684|         2638|       4031|\n",
            "|    ArcSystemWorks|              44|74.01666666666667|7.0473684210526315|         1306|       3935|\n",
            "|      FromSoftware|              44|74.33846153846154| 7.778461538461538|         2080|      43027|\n",
            "+------------------+----------------+-----------------+------------------+-------------+-----------+\n",
            "only showing top 20 rows\n",
            "\n"
          ]
        }
      ],
      "source": [
        "# CodeGrade Tag Ex1b\n",
        "### Create a dataframe that contains, for each developer, the number of distinct\n",
        "### titles, the average score, the average user score, the total number of\n",
        "### critics and the total number of users. Sort by the number of titles in\n",
        "### descending order.\n",
        "\n",
        "GamesDF.groupBy('developer').agg(F.count_distinct('name').alias('Number of Titles'),F.avg('score').alias('Average Score'),F.avg('user score').alias('Average User Score'),F.sum('critics').alias('Total Critics'),F.sum('users').alias('Total Users')).sort('Number of titles',ascending=[False]).show()"
      ]
    },
    {
      "cell_type": "markdown",
      "metadata": {
        "id": "GS543A9QRBpn"
      },
      "source": [
        "Print the total number of multi-platform titles in the data, i.e. the distinct titles which appear for *at least two* different platforms."
      ]
    },
    {
      "cell_type": "code",
      "execution_count": null,
      "metadata": {
        "colab": {
          "base_uri": "https://localhost:8080/"
        },
        "id": "IuMuVoeZCgdk",
        "outputId": "c21b9ca0-5aae-479d-9f90-01a1fadcbf3e"
      },
      "outputs": [
        {
          "output_type": "stream",
          "name": "stdout",
          "text": [
            "Number of multi-platform titles: 3615\n"
          ]
        }
      ],
      "source": [
        "# CodeGrade Tag Ex2a\n",
        "### Print the total number of multi-platform titles in the data, i.e.\n",
        "### the distinct titles which appear for at least two different platforms\n",
        "\n",
        "n_multi_titles=GamesDF.groupby('name').agg(F.count_distinct('platform')).where('count(platform) >= 2').select('name').count()\n",
        "\n",
        "print(f\"Number of multi-platform titles: {n_multi_titles}\")"
      ]
    },
    {
      "cell_type": "markdown",
      "metadata": {
        "id": "jyo8B0zUT6DJ"
      },
      "source": [
        "Print the name of the developer which has developed titles for the highest number of distinct platforms."
      ]
    },
    {
      "cell_type": "code",
      "execution_count": null,
      "metadata": {
        "colab": {
          "base_uri": "https://localhost:8080/"
        },
        "id": "PN38c0u7SNVl",
        "outputId": "9a9b6a1d-81e6-4899-d220-381cbc0b7db1"
      },
      "outputs": [
        {
          "output_type": "stream",
          "name": "stdout",
          "text": [
            "Developer for highest number of platforms: Konami\n"
          ]
        }
      ],
      "source": [
        "# CodeGrade Tag Ex2b\n",
        "### Print the developer which has developed titles for the highest number\n",
        "### of distinct platforms\n",
        "\n",
        "developer_most_platforms = GamesDF.groupby('developer').agg(F.count_distinct('platform').alias('platform')).sort('platform',ascending=(False)).first()[0]\n",
        "\n",
        "print(f\"Developer for highest number of platforms: {developer_most_platforms}\")"
      ]
    },
    {
      "cell_type": "markdown",
      "metadata": {
        "id": "l_DwW41dX9aT"
      },
      "source": [
        "Group the data by platform. Show, for each platform, its highest rated title, the total number of titles and the total number of critics.\n",
        "\n",
        "Create a dataframe where the columns are:\n",
        "\n",
        "```Platform|Highest Rated Tile|Number of Titles|Number of Critics```\n",
        "\n",
        "Sort by the Number of Titles in descending order."
      ]
    },
    {
      "cell_type": "code",
      "execution_count": null,
      "metadata": {
        "colab": {
          "base_uri": "https://localhost:8080/"
        },
        "id": "IxowyQGojhGX",
        "outputId": "77a4d368-e634-4dc7-efa7-ac1a8ab4ea91"
      },
      "outputs": [
        {
          "output_type": "stream",
          "name": "stdout",
          "text": [
            "+---------------+---------------------------------------+----------------+-----------------+\n",
            "|Platform       |Highest Rated Title                    |Number of Titles|Number of Critics|\n",
            "+---------------+---------------------------------------+----------------+-----------------+\n",
            "|PC             |Half-Life 2                            |4578            |89340            |\n",
            "|PlayStation4   |Red Dead Redemption 2                  |1926            |51104            |\n",
            "|Xbox360        |Grand Theft Auto IV                    |1665            |57283            |\n",
            "|PlayStation2   |Tony Hawk's Pro Skater 3               |1418            |34278            |\n",
            "|PlayStation3   |Grand Theft Auto IV                    |1268            |37679            |\n",
            "|Switch         |The Legend of Zelda: Breath of the Wild|1122            |19891            |\n",
            "|XboxOne        |Red Dead Redemption 2                  |1118            |17818            |\n",
            "|Xbox           |Halo: Combat Evolved                   |793             |21233            |\n",
            "|DS             |Grand Theft Auto: Chinatown Wars       |730             |15588            |\n",
            "|Wii            |Super Mario Galaxy                     |664             |15068            |\n",
            "|PSP            |God of War: Chains of Olympus          |513             |12448            |\n",
            "|GameCube       |Metroid Prime                          |452             |9494             |\n",
            "|GameBoyAdvance |The Legend of Zelda: A Link to the Past|443             |6534             |\n",
            "|3DS            |The Legend of Zelda: Ocarina of Time 3D|400             |11568            |\n",
            "|PlayStationVita|Persona 4 Golden                       |257             |5882             |\n",
            "|WiiU           |The Legend of Zelda: Breath of the Wild|187             |4752             |\n",
            "|PlayStation    |Tony Hawk's Pro Skater 2               |186             |2170             |\n",
            "|Dreamcast      |SoulCalibur                            |124             |1747             |\n",
            "|Nintendo64     |The Legend of Zelda: Ocarina of Time   |70              |936              |\n",
            "|Stadia         |Get Packed                             |4               |45               |\n",
            "+---------------+---------------------------------------+----------------+-----------------+\n",
            "only showing top 20 rows\n",
            "\n"
          ]
        }
      ],
      "source": [
        "# CodeGrade Tag Ex3\n",
        "### Group the data by platform. Show, for each platform, its highest rated\n",
        "### title, the total number of titles and the total number of critics.\n",
        "### Sort by the Number of Titles in descending order.\n",
        "\n",
        "GamesDF.sort('score',ascending=(False)).groupBy('Platform').agg(F.first('name').alias('Highest Rated Title'),F.count('name').alias('Number of Titles'),F.sum('critics').alias('Number of Critics')).sort('Number of Titles',ascending=(False)).show(truncate=False)"
      ]
    },
    {
      "cell_type": "markdown",
      "metadata": {
        "id": "WIEZ21wyUn8g"
      },
      "source": [
        "Print the name of the Platform with the highest percentage of titles of \"Open-World\" genre.\n",
        "\n",
        "*Hint*: every game has multiple genres, so use ```pyspark.sql.Column.contains``` to impose the condition that the list of genres contains \"Open-World\"."
      ]
    },
    {
      "cell_type": "code",
      "execution_count": null,
      "metadata": {
        "colab": {
          "base_uri": "https://localhost:8080/"
        },
        "id": "LHaC8-59G3Hr",
        "outputId": "46f33f18-3509-43e9-9236-b7855f1301fc"
      },
      "outputs": [
        {
          "output_type": "stream",
          "name": "stdout",
          "text": [
            "Platform with the highest percentage of Open-World titles: XboxSeriesX\n"
          ]
        }
      ],
      "source": [
        "# CodeGrade Tag Ex4\n",
        "### Print the name of the Platform with the highest percentage of titles of\n",
        "### \"Open-World\" genre\n",
        "\n",
        "open_world = F.when(F.col('genre').contains('Open-World'),F.countDistinct('name')).otherwise(0).alias('open_world_titles')\n",
        "\n",
        "plat_OpenWorld = GamesDF.groupBy(['platform','genre']).agg(open_world,F.countDistinct('name').alias('all_titles')).groupBy('platform').agg((F.sum('open_world_titles')/F.sum('all_titles')).alias('portion_open_world_titles')).sort(('portion_open_world_titles'),ascending=(False)).first()[0]\n",
        "\n",
        "print(f\"Platform with the highest percentage of Open-World titles: {plat_OpenWorld}\")"
      ]
    },
    {
      "cell_type": "markdown",
      "metadata": {
        "id": "ciUez_m4aYmO"
      },
      "source": [
        "⚠️ Let's define a title *Single Player* if and only if its feature ```player``` is equal either to \"1 Player\" or \"No Online Multiplayer\".\n",
        "\n",
        "For example, *The Legend of Zelda: Ocarina of Time* has ```player``` equal \"1 Player\", so it is a Single Player. For another example, *Grim Fandango* has ```player``` equal \"No Online Multiplayer\", so it is a Single Player too. On the other hand, *Mario Kart 8* has ```player``` equal \"Up to 12\", so it is not a Single Player.\n",
        "\n",
        "Havind defined Single Player titles as above,\n",
        "\n",
        "* Print the total number of distinct Single Player titles.\n",
        "\n",
        "* Print the total number of developers which have developed at least one Single Player title."
      ]
    },
    {
      "cell_type": "code",
      "execution_count": null,
      "metadata": {
        "colab": {
          "base_uri": "https://localhost:8080/"
        },
        "id": "VXReWf6GmhIw",
        "outputId": "d47a3ecf-0a0a-485f-f223-5d51e3e82348"
      },
      "outputs": [
        {
          "output_type": "stream",
          "name": "stdout",
          "text": [
            "Number of Single Player titles: 4838\n",
            "Number of developers of Single Player titles: 2509\n"
          ]
        }
      ],
      "source": [
        "# CodeGrade Tag Ex5\n",
        "### Print the total number of distinct Single Player titles.\n",
        "### Print the total number of developers which have developed at least one Single Player title.\n",
        "\n",
        "SinglePlayer_titles = GamesDF.where('players in (\"1 Player\",\"No Online Multiplayer\")').select(F.countDistinct('name')).first()[0]\n",
        "\n",
        "SinglePlayer_developers = GamesDF.where('players in (\"1 Player\",\"No Online Multiplayer\")').select(F.countDistinct('developer')).first()[0]\n",
        "\n",
        "print(f\"Number of Single Player titles: {SinglePlayer_titles}\")\n",
        "print(f\"Number of developers of Single Player titles: {SinglePlayer_developers}\")"
      ]
    }
  ],
  "metadata": {
    "colab": {
      "provenance": []
    },
    "kernelspec": {
      "display_name": "Python 3 (ipykernel)",
      "language": "python",
      "name": "python3"
    },
    "language_info": {
      "codemirror_mode": {
        "name": "ipython",
        "version": 3
      },
      "file_extension": ".py",
      "mimetype": "text/x-python",
      "name": "python",
      "nbconvert_exporter": "python",
      "pygments_lexer": "ipython3",
      "version": "3.11.7"
    }
  },
  "nbformat": 4,
  "nbformat_minor": 0
}